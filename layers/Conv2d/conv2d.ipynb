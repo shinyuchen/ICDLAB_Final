{
  "nbformat": 4,
  "nbformat_minor": 0,
  "metadata": {
    "colab": {
      "provenance": []
    },
    "kernelspec": {
      "name": "python3",
      "display_name": "Python 3"
    },
    "language_info": {
      "name": "python"
    }
  },
  "cells": [
    {
      "cell_type": "code",
      "execution_count": 2,
      "metadata": {
        "id": "eibNrfH9wXOj"
      },
      "outputs": [],
      "source": [
        "import torch\n",
        "import numpy as np"
      ]
    },
    {
      "cell_type": "code",
      "source": [
        "def img2col(input, h_out, w_out, h_k, w_k, stride):\n",
        "    \"\"\"\n",
        "        Stacking ONLY Single Channel\n",
        "    :input: (batch, channel, height, weight)\n",
        "    :return: (batch, channel, h_k*w_k, h_out*w_out)\n",
        "    \"\"\"\n",
        "    b, c, h, w = input.shape\n",
        "    out = np.zeros((b, c, h_k*w_k, h_out*w_out))\n",
        "    convhIdx = 0\n",
        "    convwIdx = 0\n",
        "    for i in range(b):\n",
        "        for j in range(c):\n",
        "            # For each channel, scan from left-top\n",
        "            convwIdx = 0\n",
        "            convhIdx = 0\n",
        "            for k in range(h_out*w_out):\n",
        "                if convwIdx + w_k > w:\n",
        "                    convwIdx = 0\n",
        "                    convhIdx += stride\n",
        "                out[i, j, :, k] = input[i, j, convhIdx:convhIdx+h_k, convwIdx:convwIdx+w_k].flatten()\n",
        "                convwIdx += stride\n",
        "    return out\n"
      ],
      "metadata": {
        "id": "0xgd9pR3Ucfk"
      },
      "execution_count": 26,
      "outputs": []
    },
    {
      "cell_type": "code",
      "source": [
        "def forward(input, weights, bias, pad=2, stride=1, in_channel=1, out_channel=1):\n",
        "    \"\"\"\n",
        "    # Arguments\n",
        "        input: numpy array with shape (batch, in_channel, in_height, in_width)\n",
        "        weights: numpy array with shape (out_channel, in_channel, kernel_h, kernel_w)\n",
        "        bias: numpy array with shape (out_channel)\n",
        "\n",
        "    # Returns\n",
        "        output: numpy array with shape (batch, out_channel, out_height, out_width)\n",
        "    \"\"\"\n",
        "    kernel_h = weights.shape[2] #self.conv_params['kernel_h']  # height of kernel\n",
        "    kernel_w = weights.shape[3] #self.conv_params['kernel_w']  # width of kernel\n",
        "    # pad = 0 #self.conv_params['pad']\n",
        "    # stride = 1 #self.conv_params['stride']\n",
        "    # in_channel = 1# self.conv_params['in_channel']\n",
        "    # out_channel = 1# self.conv_params['out_channel']\n",
        "\n",
        "    batch, in_channel, in_height, in_width = input.shape\n",
        "    #####################################################################################\n",
        "    # computing output shape\n",
        "    out_h = int((in_height + pad - kernel_h)/stride) + 1\n",
        "    out_w = int((in_width + pad - kernel_w)/stride) + 1\n",
        "\n",
        "    # padding\n",
        "    pad_input = np.pad(input, ((0,0),(0,0),(int(pad/2), pad-int(pad/2)),(int(pad/2), pad-int(pad/2))), 'constant', constant_values=0)\n",
        "    in_height += pad\n",
        "    in_width += pad\n",
        "\n",
        "    # Img2Col\n",
        "    col_input = img2col(pad_input, out_h, out_w, kernel_h, kernel_w, stride)\n",
        "    # merge channel\n",
        "    col_input = col_input.reshape(col_input.shape[0], -1, col_input.shape[3])\n",
        "\n",
        "    # reshape kernel\n",
        "    weights_flatten = weights.reshape(weights.shape[0], -1)\n",
        "    \n",
        "    # compute convolution\n",
        "    output = weights_flatten @ col_input + bias.reshape(-1, 1)\n",
        "\n",
        "    # reshape convolution result\n",
        "    output = output.reshape(output.shape[0], output.shape[1], out_h, out_w)\n",
        "    #####################################################################################\n",
        "    return output\n"
      ],
      "metadata": {
        "id": "fIRO38h9UgbQ"
      },
      "execution_count": 43,
      "outputs": []
    },
    {
      "cell_type": "code",
      "source": [
        "conv2d = torch.nn.Conv2d(1,1,3,1,1)\n",
        "conv2d.weight.data.fill_(1)\n",
        "conv2d.bias.data.fill_(1)\n",
        "print('Weight Of Network :\\n',conv2d.weight)\n",
        "print('Bias Of Network :\\n',conv2d.bias)"
      ],
      "metadata": {
        "colab": {
          "base_uri": "https://localhost:8080/"
        },
        "id": "oGGts1IwZvWR",
        "outputId": "ea9ad46e-255d-486f-a1f8-c677dd4e8f4a"
      },
      "execution_count": 38,
      "outputs": [
        {
          "output_type": "stream",
          "name": "stdout",
          "text": [
            "Weight Of Network :\n",
            " Parameter containing:\n",
            "tensor([[[[1., 1., 1.],\n",
            "          [1., 1., 1.],\n",
            "          [1., 1., 1.]]]], requires_grad=True)\n",
            "Bias Of Network :\n",
            " Parameter containing:\n",
            "tensor([1.], requires_grad=True)\n"
          ]
        }
      ]
    },
    {
      "cell_type": "code",
      "source": [
        "test_input_int = [[[[2,0,0,3,7],[3,4,6,1,6],[7,8,8,5,8],[8,6,4,4,6],[8,6,9,8,4]]]]\n",
        "test_input = torch.Tensor(test_input_int)\n",
        "out = conv2d(test_input)\n",
        "\n",
        "print(f\"Model Input\")\n",
        "print(test_input)\n",
        "print(\"Model Output\")\n",
        "print(out)\n",
        "img2col_out = forward(np.array(test_input_int),conv2d.weight.detach().numpy(),conv2d.bias.detach().numpy())\n",
        "print(\"Img2col Output\")\n",
        "print(img2col_out)"
      ],
      "metadata": {
        "colab": {
          "base_uri": "https://localhost:8080/"
        },
        "id": "HIGKVE962PpU",
        "outputId": "db904238-847a-42a9-9734-500176dda85c"
      },
      "execution_count": 44,
      "outputs": [
        {
          "output_type": "stream",
          "name": "stdout",
          "text": [
            "Model Input\n",
            "tensor([[[[2., 0., 0., 3., 7.],\n",
            "          [3., 4., 6., 1., 6.],\n",
            "          [7., 8., 8., 5., 8.],\n",
            "          [8., 6., 4., 4., 6.],\n",
            "          [8., 6., 9., 8., 4.]]]])\n",
            "Model Output\n",
            "tensor([[[[10., 16., 15., 24., 18.],\n",
            "          [25., 39., 36., 45., 31.],\n",
            "          [37., 55., 47., 49., 31.],\n",
            "          [44., 65., 59., 57., 36.],\n",
            "          [29., 42., 38., 36., 23.]]]], grad_fn=<ConvolutionBackward0>)\n",
            "Img2col Output\n",
            "[[[[10. 16. 15. 24. 18.]\n",
            "   [25. 39. 36. 45. 31.]\n",
            "   [37. 55. 47. 49. 31.]\n",
            "   [44. 65. 59. 57. 36.]\n",
            "   [29. 42. 38. 36. 23.]]]]\n"
          ]
        }
      ]
    },
    {
      "cell_type": "code",
      "source": [
        "img2col_out = forward(test_input_int,conv2d.weight.detach().numpy(),conv2d.bias.detach().numpy())\n",
        "print(\"Img2col Output\")\n",
        "print(img2col_out)"
      ],
      "metadata": {
        "colab": {
          "base_uri": "https://localhost:8080/"
        },
        "id": "vDrTeueCWNmb",
        "outputId": "8b05b454-7b8e-4fa9-d194-8aba9473c4d6"
      },
      "execution_count": 35,
      "outputs": [
        {
          "output_type": "stream",
          "name": "stdout",
          "text": [
            "Img2col Output\n",
            "[[[[4. 2.]\n",
            "   [4. 2.]]]]\n"
          ]
        }
      ]
    },
    {
      "cell_type": "code",
      "source": [
        "weight_to_write = new_weight_int\n",
        "bias_to_write = new_bias_int\n",
        "input_to_write = test_input_int\n",
        "golden_to_write = [[int(x) for x in row] for row in out.tolist()]"
      ],
      "metadata": {
        "id": "172ss0iW9Hnd"
      },
      "execution_count": null,
      "outputs": []
    },
    {
      "cell_type": "code",
      "source": [
        "weight_file = \"weight.csv\"\n",
        "bias_file = \"bias.csv\"\n",
        "input_file = \"input.csv\"\n",
        "golden_file = \"golden.csv\"\n",
        "\n",
        "import csv\n",
        "with open(weight_file, 'w', newline='') as file:\n",
        "  writer = csv.writer(file)\n",
        "  writer.writerow(weight_to_write)\n",
        "with open(bias_file, 'w', newline='') as file:\n",
        "  writer = csv.writer(file)\n",
        "  writer.writerow(bias_to_write)\n",
        "with open(input_file, 'w', newline='') as file:\n",
        "  writer = csv.writer(file)\n",
        "  writer.writerow(input_to_write)\n",
        "with open(golden_file, 'w', newline='') as file:\n",
        "  writer = csv.writer(file)\n",
        "  writer.writerow(golden_to_write)"
      ],
      "metadata": {
        "id": "TrqFa3aq84fC"
      },
      "execution_count": null,
      "outputs": []
    }
  ]
}